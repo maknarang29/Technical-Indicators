{
 "cells": [
  {
   "cell_type": "code",
   "execution_count": 1,
   "metadata": {},
   "outputs": [],
   "source": [
    "import numpy as np\n",
    "import pandas as pd\n",
    "import matplotlib.pyplot as plt\n",
    "from pandas_datareader import data\n",
    "import datetime as dt"
   ]
  },
  {
   "cell_type": "code",
   "execution_count": 2,
   "metadata": {
    "pycharm": {
     "name": "#%%\n"
    }
   },
   "outputs": [],
   "source": [
    "start_date = dt.date(2018,1,1)\n",
    "end_date = dt.date.today()"
   ]
  },
  {
   "cell_type": "code",
   "execution_count": 3,
   "metadata": {
    "pycharm": {
     "name": "#%%\n"
    }
   },
   "outputs": [],
   "source": [
    "RIL = data.DataReader(\"RELIANCE.NS\",'yahoo',start_date,end_date)\n",
    "lows = RIL['Low']\n",
    "highs = RIL['High']"
   ]
  },
  {
   "cell_type": "code",
   "execution_count": 4,
   "metadata": {
    "pycharm": {
     "name": "#%%\n"
    }
   },
   "outputs": [
    {
     "data": {
      "text/html": [
       "<div>\n",
       "<style scoped>\n",
       "    .dataframe tbody tr th:only-of-type {\n",
       "        vertical-align: middle;\n",
       "    }\n",
       "\n",
       "    .dataframe tbody tr th {\n",
       "        vertical-align: top;\n",
       "    }\n",
       "\n",
       "    .dataframe thead th {\n",
       "        text-align: right;\n",
       "    }\n",
       "</style>\n",
       "<table border=\"1\" class=\"dataframe\">\n",
       "  <thead>\n",
       "    <tr style=\"text-align: right;\">\n",
       "      <th></th>\n",
       "      <th>High</th>\n",
       "      <th>Low</th>\n",
       "      <th>Open</th>\n",
       "      <th>Close</th>\n",
       "      <th>Volume</th>\n",
       "      <th>Adj Close</th>\n",
       "    </tr>\n",
       "    <tr>\n",
       "      <th>Date</th>\n",
       "      <th></th>\n",
       "      <th></th>\n",
       "      <th></th>\n",
       "      <th></th>\n",
       "      <th></th>\n",
       "      <th></th>\n",
       "    </tr>\n",
       "  </thead>\n",
       "  <tbody>\n",
       "    <tr>\n",
       "      <th>2018-01-01</th>\n",
       "      <td>922.700012</td>\n",
       "      <td>907.500000</td>\n",
       "      <td>922.700012</td>\n",
       "      <td>909.750000</td>\n",
       "      <td>4321686.0</td>\n",
       "      <td>895.929260</td>\n",
       "    </tr>\n",
       "    <tr>\n",
       "      <th>2018-01-02</th>\n",
       "      <td>919.549988</td>\n",
       "      <td>906.400024</td>\n",
       "      <td>913.000000</td>\n",
       "      <td>911.150024</td>\n",
       "      <td>4342815.0</td>\n",
       "      <td>897.308044</td>\n",
       "    </tr>\n",
       "    <tr>\n",
       "      <th>2018-01-03</th>\n",
       "      <td>926.000000</td>\n",
       "      <td>913.049988</td>\n",
       "      <td>925.000000</td>\n",
       "      <td>914.799988</td>\n",
       "      <td>6175312.0</td>\n",
       "      <td>900.902649</td>\n",
       "    </tr>\n",
       "    <tr>\n",
       "      <th>2018-01-04</th>\n",
       "      <td>921.799988</td>\n",
       "      <td>915.700012</td>\n",
       "      <td>918.150024</td>\n",
       "      <td>920.299988</td>\n",
       "      <td>4118581.0</td>\n",
       "      <td>906.319092</td>\n",
       "    </tr>\n",
       "    <tr>\n",
       "      <th>2018-01-05</th>\n",
       "      <td>926.900024</td>\n",
       "      <td>920.250000</td>\n",
       "      <td>921.799988</td>\n",
       "      <td>923.250000</td>\n",
       "      <td>3401905.0</td>\n",
       "      <td>909.224243</td>\n",
       "    </tr>\n",
       "    <tr>\n",
       "      <th>...</th>\n",
       "      <td>...</td>\n",
       "      <td>...</td>\n",
       "      <td>...</td>\n",
       "      <td>...</td>\n",
       "      <td>...</td>\n",
       "      <td>...</td>\n",
       "    </tr>\n",
       "    <tr>\n",
       "      <th>2020-10-19</th>\n",
       "      <td>2228.699951</td>\n",
       "      <td>2155.149902</td>\n",
       "      <td>2190.050049</td>\n",
       "      <td>2176.199951</td>\n",
       "      <td>14398973.0</td>\n",
       "      <td>2176.199951</td>\n",
       "    </tr>\n",
       "    <tr>\n",
       "      <th>2020-10-20</th>\n",
       "      <td>2193.000000</td>\n",
       "      <td>2152.250000</td>\n",
       "      <td>2179.000000</td>\n",
       "      <td>2155.899902</td>\n",
       "      <td>8529573.0</td>\n",
       "      <td>2155.899902</td>\n",
       "    </tr>\n",
       "    <tr>\n",
       "      <th>2020-10-21</th>\n",
       "      <td>2192.000000</td>\n",
       "      <td>2097.750000</td>\n",
       "      <td>2168.000000</td>\n",
       "      <td>2124.600098</td>\n",
       "      <td>15728986.0</td>\n",
       "      <td>2124.600098</td>\n",
       "    </tr>\n",
       "    <tr>\n",
       "      <th>2020-10-22</th>\n",
       "      <td>2132.500000</td>\n",
       "      <td>2091.000000</td>\n",
       "      <td>2127.399902</td>\n",
       "      <td>2106.949951</td>\n",
       "      <td>14215215.0</td>\n",
       "      <td>2106.949951</td>\n",
       "    </tr>\n",
       "    <tr>\n",
       "      <th>2020-10-23</th>\n",
       "      <td>2135.000000</td>\n",
       "      <td>2096.399902</td>\n",
       "      <td>2106.000000</td>\n",
       "      <td>2113.050049</td>\n",
       "      <td>10805655.0</td>\n",
       "      <td>2113.050049</td>\n",
       "    </tr>\n",
       "  </tbody>\n",
       "</table>\n",
       "<p>692 rows × 6 columns</p>\n",
       "</div>"
      ],
      "text/plain": [
       "                   High          Low         Open        Close      Volume  \\\n",
       "Date                                                                         \n",
       "2018-01-01   922.700012   907.500000   922.700012   909.750000   4321686.0   \n",
       "2018-01-02   919.549988   906.400024   913.000000   911.150024   4342815.0   \n",
       "2018-01-03   926.000000   913.049988   925.000000   914.799988   6175312.0   \n",
       "2018-01-04   921.799988   915.700012   918.150024   920.299988   4118581.0   \n",
       "2018-01-05   926.900024   920.250000   921.799988   923.250000   3401905.0   \n",
       "...                 ...          ...          ...          ...         ...   \n",
       "2020-10-19  2228.699951  2155.149902  2190.050049  2176.199951  14398973.0   \n",
       "2020-10-20  2193.000000  2152.250000  2179.000000  2155.899902   8529573.0   \n",
       "2020-10-21  2192.000000  2097.750000  2168.000000  2124.600098  15728986.0   \n",
       "2020-10-22  2132.500000  2091.000000  2127.399902  2106.949951  14215215.0   \n",
       "2020-10-23  2135.000000  2096.399902  2106.000000  2113.050049  10805655.0   \n",
       "\n",
       "              Adj Close  \n",
       "Date                     \n",
       "2018-01-01   895.929260  \n",
       "2018-01-02   897.308044  \n",
       "2018-01-03   900.902649  \n",
       "2018-01-04   906.319092  \n",
       "2018-01-05   909.224243  \n",
       "...                 ...  \n",
       "2020-10-19  2176.199951  \n",
       "2020-10-20  2155.899902  \n",
       "2020-10-21  2124.600098  \n",
       "2020-10-22  2106.949951  \n",
       "2020-10-23  2113.050049  \n",
       "\n",
       "[692 rows x 6 columns]"
      ]
     },
     "execution_count": 4,
     "metadata": {},
     "output_type": "execute_result"
    }
   ],
   "source": [
    "RIL"
   ]
  },
  {
   "cell_type": "code",
   "execution_count": 7,
   "metadata": {},
   "outputs": [],
   "source": [
    "RIL['SMA20'] = RIL.Close.rolling(window=20).mean()"
   ]
  },
  {
   "cell_type": "code",
   "execution_count": 9,
   "metadata": {},
   "outputs": [
    {
     "data": {
      "text/plain": [
       "[<matplotlib.lines.Line2D at 0x112b99df0>]"
      ]
     },
     "execution_count": 9,
     "metadata": {},
     "output_type": "execute_result"
    },
    {
     "data": {
      "image/png": "[encoded data removed]",
      "text/plain": [
       "<Figure size 432x288 with 1 Axes>"
      ]
     },
     "metadata": {
      "needs_background": "light"
     },
     "output_type": "display_data"
    }
   ],
   "source": [
    "fig = plt.figure()\n",
    "ax1 = fig.add_subplot(111,ylabel = 'RIL Price in Rs.')\n",
    "ax1.plot(RIL.Close)\n",
    "ax1.plot(RIL.SMA20,'r')"
   ]
  },
  {
   "cell_type": "code",
   "execution_count": null,
   "metadata": {
    "pycharm": {
     "name": "#%%\n"
    }
   },
   "outputs": [],
   "source": [
    "lows.index.values[200]"
   ]
  },
  {
   "cell_type": "code",
   "execution_count": null,
   "metadata": {
    "pycharm": {
     "name": "#%%\n"
    }
   },
   "outputs": [],
   "source": [
    "fig = plt.figure()\n",
    "ax1 = fig.add_subplot(111,ylabel = 'RIL Price in Rs.')\n",
    "highs.plot(ax=ax1, color='c', lw=2.)\n",
    "lows.plot(ax=ax1, color='y', lw=2.)\n",
    "plt.hlines(highs.head(200).max(),lows.index.values[0],lows.index.values[-1],linewidth=2,color='g')\n",
    "plt.hlines(lows.head(200).min(),lows.index.values[0],lows.index.values[-1],linewidth=2,color='r')\n",
    "plt.axvline(linewidth=2,color='b',x=lows.index.values[200],linestyle=':')\n",
    "plt.show()"
   ]
  },
  {
   "cell_type": "code",
   "execution_count": null,
   "metadata": {
    "pycharm": {
     "name": "#%%\n"
    }
   },
   "outputs": [],
   "source": []
  },
  {
   "cell_type": "code",
   "execution_count": 5,
   "metadata": {},
   "outputs": [],
   "source": []
  },
  {
   "cell_type": "code",
   "execution_count": 6,
   "metadata": {},
   "outputs": [],
   "source": [
    "RIL = data.DataReader(\"RELIANCE.NS\",'yahoo',start_date,end_date)\n",
    "lows = RIL['Low']\n",
    "highs = RIL['High']"
   ]
  },
  {
   "cell_type": "code",
   "execution_count": 7,
   "metadata": {
    "scrolled": true
   },
   "outputs": [
    {
     "data": {
      "text/html": [
       "<div>\n",
       "<style scoped>\n",
       "    .dataframe tbody tr th:only-of-type {\n",
       "        vertical-align: middle;\n",
       "    }\n",
       "\n",
       "    .dataframe tbody tr th {\n",
       "        vertical-align: top;\n",
       "    }\n",
       "\n",
       "    .dataframe thead th {\n",
       "        text-align: right;\n",
       "    }\n",
       "</style>\n",
       "<table border=\"1\" class=\"dataframe\">\n",
       "  <thead>\n",
       "    <tr style=\"text-align: right;\">\n",
       "      <th></th>\n",
       "      <th>High</th>\n",
       "      <th>Low</th>\n",
       "      <th>Open</th>\n",
       "      <th>Close</th>\n",
       "      <th>Volume</th>\n",
       "      <th>Adj Close</th>\n",
       "    </tr>\n",
       "    <tr>\n",
       "      <th>Date</th>\n",
       "      <th></th>\n",
       "      <th></th>\n",
       "      <th></th>\n",
       "      <th></th>\n",
       "      <th></th>\n",
       "      <th></th>\n",
       "    </tr>\n",
       "  </thead>\n",
       "  <tbody>\n",
       "    <tr>\n",
       "      <th>2018-01-01</th>\n",
       "      <td>922.700012</td>\n",
       "      <td>907.500000</td>\n",
       "      <td>922.700012</td>\n",
       "      <td>909.750000</td>\n",
       "      <td>4321686.0</td>\n",
       "      <td>895.929260</td>\n",
       "    </tr>\n",
       "    <tr>\n",
       "      <th>2018-01-02</th>\n",
       "      <td>919.549988</td>\n",
       "      <td>906.400024</td>\n",
       "      <td>913.000000</td>\n",
       "      <td>911.150024</td>\n",
       "      <td>4342815.0</td>\n",
       "      <td>897.308044</td>\n",
       "    </tr>\n",
       "    <tr>\n",
       "      <th>2018-01-03</th>\n",
       "      <td>926.000000</td>\n",
       "      <td>913.049988</td>\n",
       "      <td>925.000000</td>\n",
       "      <td>914.799988</td>\n",
       "      <td>6175312.0</td>\n",
       "      <td>900.902649</td>\n",
       "    </tr>\n",
       "    <tr>\n",
       "      <th>2018-01-04</th>\n",
       "      <td>921.799988</td>\n",
       "      <td>915.700012</td>\n",
       "      <td>918.150024</td>\n",
       "      <td>920.299988</td>\n",
       "      <td>4118581.0</td>\n",
       "      <td>906.319092</td>\n",
       "    </tr>\n",
       "    <tr>\n",
       "      <th>2018-01-05</th>\n",
       "      <td>926.900024</td>\n",
       "      <td>920.250000</td>\n",
       "      <td>921.799988</td>\n",
       "      <td>923.250000</td>\n",
       "      <td>3401905.0</td>\n",
       "      <td>909.224243</td>\n",
       "    </tr>\n",
       "    <tr>\n",
       "      <th>...</th>\n",
       "      <td>...</td>\n",
       "      <td>...</td>\n",
       "      <td>...</td>\n",
       "      <td>...</td>\n",
       "      <td>...</td>\n",
       "      <td>...</td>\n",
       "    </tr>\n",
       "    <tr>\n",
       "      <th>2020-10-16</th>\n",
       "      <td>2232.500000</td>\n",
       "      <td>2172.649902</td>\n",
       "      <td>2215.000000</td>\n",
       "      <td>2175.800049</td>\n",
       "      <td>9960828.0</td>\n",
       "      <td>2175.800049</td>\n",
       "    </tr>\n",
       "    <tr>\n",
       "      <th>2020-10-19</th>\n",
       "      <td>2228.699951</td>\n",
       "      <td>2155.149902</td>\n",
       "      <td>2190.050049</td>\n",
       "      <td>2176.199951</td>\n",
       "      <td>14398973.0</td>\n",
       "      <td>2176.199951</td>\n",
       "    </tr>\n",
       "    <tr>\n",
       "      <th>2020-10-20</th>\n",
       "      <td>2193.000000</td>\n",
       "      <td>2152.250000</td>\n",
       "      <td>2179.000000</td>\n",
       "      <td>2155.899902</td>\n",
       "      <td>8529573.0</td>\n",
       "      <td>2155.899902</td>\n",
       "    </tr>\n",
       "    <tr>\n",
       "      <th>2020-10-21</th>\n",
       "      <td>2192.000000</td>\n",
       "      <td>2097.750000</td>\n",
       "      <td>2168.000000</td>\n",
       "      <td>2124.600098</td>\n",
       "      <td>15728986.0</td>\n",
       "      <td>2124.600098</td>\n",
       "    </tr>\n",
       "    <tr>\n",
       "      <th>2020-10-22</th>\n",
       "      <td>2132.500000</td>\n",
       "      <td>2091.000000</td>\n",
       "      <td>2127.399902</td>\n",
       "      <td>2105.899902</td>\n",
       "      <td>9676030.0</td>\n",
       "      <td>2105.899902</td>\n",
       "    </tr>\n",
       "  </tbody>\n",
       "</table>\n",
       "<p>691 rows × 6 columns</p>\n",
       "</div>"
      ],
      "text/plain": [
       "                   High          Low         Open        Close      Volume  \\\n",
       "Date                                                                         \n",
       "2018-01-01   922.700012   907.500000   922.700012   909.750000   4321686.0   \n",
       "2018-01-02   919.549988   906.400024   913.000000   911.150024   4342815.0   \n",
       "2018-01-03   926.000000   913.049988   925.000000   914.799988   6175312.0   \n",
       "2018-01-04   921.799988   915.700012   918.150024   920.299988   4118581.0   \n",
       "2018-01-05   926.900024   920.250000   921.799988   923.250000   3401905.0   \n",
       "...                 ...          ...          ...          ...         ...   \n",
       "2020-10-16  2232.500000  2172.649902  2215.000000  2175.800049   9960828.0   \n",
       "2020-10-19  2228.699951  2155.149902  2190.050049  2176.199951  14398973.0   \n",
       "2020-10-20  2193.000000  2152.250000  2179.000000  2155.899902   8529573.0   \n",
       "2020-10-21  2192.000000  2097.750000  2168.000000  2124.600098  15728986.0   \n",
       "2020-10-22  2132.500000  2091.000000  2127.399902  2105.899902   9676030.0   \n",
       "\n",
       "              Adj Close  \n",
       "Date                     \n",
       "2018-01-01   895.929260  \n",
       "2018-01-02   897.308044  \n",
       "2018-01-03   900.902649  \n",
       "2018-01-04   906.319092  \n",
       "2018-01-05   909.224243  \n",
       "...                 ...  \n",
       "2020-10-16  2175.800049  \n",
       "2020-10-19  2176.199951  \n",
       "2020-10-20  2155.899902  \n",
       "2020-10-21  2124.600098  \n",
       "2020-10-22  2105.899902  \n",
       "\n",
       "[691 rows x 6 columns]"
      ]
     },
     "execution_count": 7,
     "metadata": {},
     "output_type": "execute_result"
    }
   ],
   "source": [
    "RIL"
   ]
  },
  {
   "cell_type": "code",
   "execution_count": null,
   "outputs": [],
   "source": [
    "lows.index.values[200]"
   ],
   "metadata": {
    "collapsed": false,
    "pycharm": {
     "name": "#%%\n"
    }
   }
  },
  {
   "cell_type": "code",
   "execution_count": null,
   "outputs": [],
   "source": [
    "fig = plt.figure()\n",
    "ax1 = fig.add_subplot(111,ylabel = 'RIL Price in Rs.')\n",
    "highs.plot(ax=ax1, color='c', lw=2.)\n",
    "lows.plot(ax=ax1, color='y', lw=2.)\n",
    "plt.hlines(highs.head(200).max(),lows.index.values[0],lows.index.values[-1],linewidth=2,color='g')\n",
    "plt.hlines(lows.head(200).min(),lows.index.values[0],lows.index.values[-1],linewidth=2,color='r')\n",
    "plt.axvline(linewidth=2,color='b',x=lows.index.values[200],linestyle=':')\n",
    "plt.show()"
   ],
   "metadata": {
    "collapsed": false,
    "pycharm": {
     "name": "#%%\n"
    }
   }
  },
  {
   "cell_type": "markdown",
   "source": [
    "## Simple Moving Average (SMA)"
   ],
   "metadata": {
    "collapsed": false
   }
  },
  {
   "cell_type": "code",
   "execution_count": null,
   "outputs": [],
   "source": [
    "def SMA(data,timeperiod):\n",
    "    try:\n",
    "        RIL['SMA'] = data.Close.rolling(window=timeperiod,min_periods=1).mean()\n",
    "        \n",
    "    except:\n",
    "        print(\"Data not in proper format\")\n",
    "    "
   ],
   "metadata": {
    "collapsed": false,
    "pycharm": {
     "name": "#%%\n"
    }
   }
  },
  {
   "cell_type": "code",
   "execution_count": null,
   "outputs": [],
   "source": [
    "SMA(RIL,20)"
   ],
   "metadata": {
    "collapsed": false,
    "pycharm": {
     "name": "#%%\n"
    }
   }
  },
  {
   "cell_type": "code",
   "execution_count": null,
   "outputs": [],
   "source": [
    "RIL = RIL.drop(labels='SMA20',axis=1)"
   ],
   "metadata": {
    "collapsed": false,
    "pycharm": {
     "name": "#%%\n"
    }
   }
  },
  {
   "cell_type": "markdown",
   "source": [
    "## Exponential Moving Average"
   ],
   "metadata": {
    "collapsed": false
   }
  },
  {
   "cell_type": "code",
   "execution_count": 11,
   "metadata": {},
   "outputs": [
    {
     "data": {
      "text/plain": [
       "numpy.datetime64('2018-10-24T00:00:00.000000000')"
      ]
     },
     "execution_count": 11,
     "metadata": {},
     "output_type": "execute_result"
    }
   ],
   "source": []
  },
  {
   "cell_type": "code",
   "execution_count": 12,
   "metadata": {},
   "outputs": [
    {
     "data": {
      "image/png": "[encoded data removed]",
      "text/plain": [
       "<Figure size 432x288 with 1 Axes>"
      ]
     },
     "metadata": {
      "needs_background": "light"
     },
     "output_type": "display_data"
    }
   ],
   "source": [
    "fig = plt.figure()\n",
    "ax1 = fig.add_subplot(111,ylabel = 'RIL Price in Rs.')\n",
    "highs.plot(ax=ax1, color='c', lw=2.)\n",
    "lows.plot(ax=ax1, color='y', lw=2.)\n",
    "plt.hlines(highs.head(200).max(),lows.index.values[0],lows.index.values[-1],linewidth=2,color='g')\n",
    "plt.hlines(lows.head(200).min(),lows.index.values[0],lows.index.values[-1],linewidth=2,color='r')\n",
    "plt.axvline(linewidth=2,color='b',x=lows.index.values[200],linestyle=':')\n",
    "plt.show()"
   ]
  },
  {
   "cell_type": "markdown",
   "metadata": {},
   "source": [
    "## Simple Moving Average (SMA)"
   ]
  },
  {
   "cell_type": "code",
   "execution_count": 15,
   "metadata": {},
   "outputs": [],
   "source": [
    "def SMA(data,timeperiod):\n",
    "    try:\n",
    "        RIL['SMA'] = data.Close.rolling(window=timeperiod,min_periods=1).mean()\n",
    "        \n",
    "    except:\n",
    "        print(\"Data not in proper format\")\n",
    "    "
   ]
  },
  {
   "cell_type": "code",
   "execution_count": 16,
   "metadata": {},
   "outputs": [],
   "source": [
    "SMA(RIL,20)"
   ]
  },
  {
   "cell_type": "code",
   "execution_count": 17,
   "metadata": {},
   "outputs": [],
   "source": [
    "RIL = RIL.drop(labels='SMA20',axis=1)"
   ]
  },
  {
   "cell_type": "markdown",
   "metadata": {},
   "source": [
    "## Exponential Moving Average"
   ]
  },
  {
   "cell_type": "code",
   "execution_count": null,
   "metadata": {},
   "outputs": [],
   "source": []
  }
 ],
 "metadata": {
  "kernelspec": {
   "display_name": "Python 3",
   "language": "python",
   "name": "python3"
  },
  "language_info": {
   "codemirror_mode": {
    "name": "ipython",
    "version": 3
   },
   "file_extension": ".py",
   "mimetype": "text/x-python",
   "name": "python",
   "nbconvert_exporter": "python",
   "pygments_lexer": "ipython3",
   "version": "3.8.5"
  }
 },
 "nbformat": 4,
 "nbformat_minor": 1
}